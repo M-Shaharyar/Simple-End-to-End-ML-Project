{
  "nbformat": 4,
  "nbformat_minor": 0,
  "metadata": {
    "colab": {
      "provenance": []
    },
    "kernelspec": {
      "name": "python3",
      "display_name": "Python 3"
    },
    "language_info": {
      "name": "python"
    }
  },
  "cells": [
    {
      "cell_type": "code",
      "execution_count": 1,
      "metadata": {
        "id": "Wgz3mkirPEwU"
      },
      "outputs": [],
      "source": [
        "import numpy as np"
      ]
    },
    {
      "cell_type": "code",
      "source": [
        "# 0D Tensor\n",
        "a = np.array(3)"
      ],
      "metadata": {
        "id": "V46auemcPNtA"
      },
      "execution_count": 2,
      "outputs": []
    },
    {
      "cell_type": "code",
      "source": [
        "a"
      ],
      "metadata": {
        "colab": {
          "base_uri": "https://localhost:8080/"
        },
        "id": "s9_Q0JmxPVQG",
        "outputId": "96ad4f71-55f6-4e90-8ab7-4aa4095285cc"
      },
      "execution_count": 3,
      "outputs": [
        {
          "output_type": "execute_result",
          "data": {
            "text/plain": [
              "array(3)"
            ]
          },
          "metadata": {},
          "execution_count": 3
        }
      ]
    },
    {
      "cell_type": "code",
      "source": [
        "a.ndim"
      ],
      "metadata": {
        "colab": {
          "base_uri": "https://localhost:8080/"
        },
        "id": "W5Hzxh5uPWO6",
        "outputId": "ed6548f4-a40a-4fea-d86c-d6164e55e9fe"
      },
      "execution_count": 4,
      "outputs": [
        {
          "output_type": "execute_result",
          "data": {
            "text/plain": [
              "0"
            ]
          },
          "metadata": {},
          "execution_count": 4
        }
      ]
    },
    {
      "cell_type": "code",
      "source": [
        "# 1D Tensor/Vector\n",
        "# Dimension of vector is 4D Vector\n",
        "arr =np.array([1,2,3,4])"
      ],
      "metadata": {
        "id": "HLtb7KY5PjBV"
      },
      "execution_count": 5,
      "outputs": []
    },
    {
      "cell_type": "code",
      "source": [
        "arr"
      ],
      "metadata": {
        "colab": {
          "base_uri": "https://localhost:8080/"
        },
        "id": "X5BGkiNgP5KV",
        "outputId": "1f4f46ad-065b-46ee-ad8e-352aec4b1415"
      },
      "execution_count": 6,
      "outputs": [
        {
          "output_type": "execute_result",
          "data": {
            "text/plain": [
              "array([1, 2, 3, 4])"
            ]
          },
          "metadata": {},
          "execution_count": 6
        }
      ]
    },
    {
      "cell_type": "code",
      "source": [
        "arr.ndim"
      ],
      "metadata": {
        "colab": {
          "base_uri": "https://localhost:8080/"
        },
        "id": "MXYY3VELP6LX",
        "outputId": "1e011c6d-d2d9-46ab-d992-6d16d6b95265"
      },
      "execution_count": 7,
      "outputs": [
        {
          "output_type": "execute_result",
          "data": {
            "text/plain": [
              "1"
            ]
          },
          "metadata": {},
          "execution_count": 7
        }
      ]
    },
    {
      "cell_type": "code",
      "source": [
        "# 2D Tensor/Matrix\n",
        "# Matrix is the collection of Vectors\n",
        "# 2D Tensor is the collection of 1D Tensors\n",
        "mat = np.array([[1,2,3,4],[5,6,7,8],[11,12,13,14]])"
      ],
      "metadata": {
        "id": "qQD5KQ8wP7Uw"
      },
      "execution_count": 8,
      "outputs": []
    },
    {
      "cell_type": "code",
      "source": [
        "mat"
      ],
      "metadata": {
        "colab": {
          "base_uri": "https://localhost:8080/"
        },
        "id": "R-gIK7wzQroU",
        "outputId": "d00c5ddb-ceec-4ee6-d718-639b93c4beb9"
      },
      "execution_count": 9,
      "outputs": [
        {
          "output_type": "execute_result",
          "data": {
            "text/plain": [
              "array([[ 1,  2,  3,  4],\n",
              "       [ 5,  6,  7,  8],\n",
              "       [11, 12, 13, 14]])"
            ]
          },
          "metadata": {},
          "execution_count": 9
        }
      ]
    },
    {
      "cell_type": "code",
      "source": [
        "mat.ndim"
      ],
      "metadata": {
        "colab": {
          "base_uri": "https://localhost:8080/"
        },
        "id": "VpksUy4pQsKR",
        "outputId": "09fa5163-5194-4645-e838-0dc752675ccb"
      },
      "execution_count": 10,
      "outputs": [
        {
          "output_type": "execute_result",
          "data": {
            "text/plain": [
              "2"
            ]
          },
          "metadata": {},
          "execution_count": 10
        }
      ]
    },
    {
      "cell_type": "code",
      "source": [
        "# No. of axis = Ranks = No. of dimensions\n",
        "# Size of tensor is no. of items in it\n",
        "# For scaler size is one"
      ],
      "metadata": {
        "id": "RXehBAvEQtFn"
      },
      "execution_count": 11,
      "outputs": []
    }
  ]
}